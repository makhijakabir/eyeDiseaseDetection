{
  "nbformat": 4,
  "nbformat_minor": 0,
  "metadata": {
    "colab": {
      "provenance": [],
      "toc_visible": true,
      "authorship_tag": "ABX9TyOvGkXo2YBuJhUyKEm3T0Yu",
      "include_colab_link": true
    },
    "kernelspec": {
      "name": "python3",
      "display_name": "Python 3"
    },
    "language_info": {
      "name": "python"
    }
  },
  "cells": [
    {
      "cell_type": "markdown",
      "metadata": {
        "id": "view-in-github",
        "colab_type": "text"
      },
      "source": [
        "<a href=\"https://colab.research.google.com/github/makhijakabir/eyeDiseaseDetection/blob/main/eyeDiseaseDetection.ipynb\" target=\"_parent\"><img src=\"https://colab.research.google.com/assets/colab-badge.svg\" alt=\"Open In Colab\"/></a>"
      ]
    },
    {
      "cell_type": "markdown",
      "source": [
        "#Eye Disease Detection system using CNN approach \n"
      ],
      "metadata": {
        "id": "TSKJRLYCwtua"
      }
    },
    {
      "cell_type": "markdown",
      "source": [
        "##Model Imports"
      ],
      "metadata": {
        "id": "aF2Lfav-3Xdy"
      }
    },
    {
      "cell_type": "code",
      "execution_count": 3,
      "metadata": {
        "colab": {
          "base_uri": "https://localhost:8080/"
        },
        "id": "6Tj8WqvAvOqq",
        "outputId": "8d0645f1-3cd2-4893-a14f-c9b43bf19789"
      },
      "outputs": [
        {
          "output_type": "stream",
          "name": "stdout",
          "text": [
            "The tensorboard extension is already loaded. To reload it, use:\n",
            "  %reload_ext tensorboard\n"
          ]
        }
      ],
      "source": [
        "%load_ext tensorboard"
      ]
    },
    {
      "cell_type": "code",
      "source": [
        "from numpy.random import seed\n",
        "seed(888)\n",
        "from tensorflow.random import set_seed\n",
        "set_seed(404)"
      ],
      "metadata": {
        "id": "9NSWw_fe0pfX"
      },
      "execution_count": 4,
      "outputs": []
    },
    {
      "cell_type": "code",
      "source": [
        "import pandas as pd\n",
        "import numpy as np\n",
        "import os\n",
        "os.environ['TF_CPP_MIN_LOG_LEVEL'] = '2'\n",
        "import time\n",
        "import matplotlib.pyplot as plt\n",
        "import cv2\n",
        "import seaborn as sns\n",
        "sns.set_style('darkgrid')\n",
        "import shutil\n",
        "from tqdm import tqdm\n",
        "\n",
        "%matplotlib inline"
      ],
      "metadata": {
        "id": "6cRPQh_Y1WaD"
      },
      "execution_count": 9,
      "outputs": []
    },
    {
      "cell_type": "code",
      "source": [
        "from sklearn.metrics import confusion_matrix, classification_report\n",
        "from sklearn.model_selection import train_test_split\n",
        "from sklearn.metrics import f1_score"
      ],
      "metadata": {
        "id": "MPdj8AOI1qW2"
      },
      "execution_count": 6,
      "outputs": []
    },
    {
      "cell_type": "code",
      "source": [
        "import tensorflow as tf\n",
        "from tensorflow import keras\n",
        "from tensorflow.keras.preprocessing.image import ImageDataGenerator\n",
        "from tensorflow.keras.layers import Dense, Activation,Dropout,Conv2D, MaxPooling2D,BatchNormalization\n",
        "from tensorflow.keras.optimizers import Adam, Adamax\n",
        "from tensorflow.keras.metrics import categorical_crossentropy\n",
        "from tensorflow.keras import regularizers\n",
        "from tensorflow.keras.models import Model\n",
        "from tensorflow.keras import backend as K"
      ],
      "metadata": {
        "id": "o6PE6BNx1fu5"
      },
      "execution_count": 7,
      "outputs": []
    },
    {
      "cell_type": "code",
      "source": [
        "import sys\n",
        "if not sys.warnoptions:\n",
        "    import warnings\n",
        "    warnings.simplefilter(\"ignore\")\n",
        "pd.set_option('display.max_columns', None)  # or 1000\n",
        "pd.set_option('display.max_rows', None)  # or 1000\n",
        "pd.set_option('display.max_colwidth', None)  # or 199"
      ],
      "metadata": {
        "id": "kweL-xBv2C55"
      },
      "execution_count": 8,
      "outputs": []
    },
    {
      "cell_type": "markdown",
      "source": [
        "##Model Concepts\n",
        "\n",
        "This notebook implements a custom callback to adjust the learning rate during training.\n",
        "The callback has a parameter dwell. If dwell is set to True, the callback monitors the\n",
        "validation loss. It keeps track of the lowest validation loss thus far achieved as you run\n",
        "through each epoch and stores this as the lowest loss and also stores the weights for that\n",
        "epoch as the best weights. At the end of an epoch the validation loss for that epoch is\n",
        "compared with the lowest loss. If the validation loss at the end of the current epoch is\n",
        "less than the lowest loss than it becomes the lowest loss and the weights of the current\n",
        "epoch become the best weights\n",
        "\n",
        "If the validation loss at the end of the current epoch is greator than the lowest loss\n",
        "this implies you have moved to a location in Nspace(N is the number of trainable parameters\n",
        "on the validation cost function surface that is less favorable(higher cost) than the position\n",
        "in Nspace defined by the best weights. Therefore why move the models weights to this less\n",
        "favorable location? Better to reset the models weights to the best weights, then lower the\n",
        "learning rate and run more epochs. The new learning rate is set to new_lr=current_lr * factor\n",
        "where factor is a user specified parameter in the instantiation of the callback. By default\n",
        "it is set to .04 and by default dwell is set to True.\n",
        "\n",
        "At the end of training the callback always returns your model with the weights set to the\n",
        "best weights. The callback provides a feature where it periodically queries the user to\n",
        "either contine and optionally manually specify a new learning rate or halt training.\n",
        "During training the calback provides useful information on the percent improvement in the\n",
        "validation loss for each epoch. The is useful to decide when to halt training or manually\n",
        "specifying a new learning rate.\n"
      ],
      "metadata": {
        "id": "RdOsz1pA3UCd"
      }
    },
    {
      "cell_type": "code",
      "source": [],
      "metadata": {
        "id": "luq7DnZi3Whj"
      },
      "execution_count": null,
      "outputs": []
    }
  ]
}